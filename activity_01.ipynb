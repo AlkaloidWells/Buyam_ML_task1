{
 "cells": [
  {
   "cell_type": "code",
   "execution_count": 3,
   "id": "d4a42a76-6471-4160-abc3-177e66ff757c",
   "metadata": {},
   "outputs": [],
   "source": [
    "import pandas as pd\n",
    "import mysql\n",
    "from connect import DatabaseConnector"
   ]
  },
  {
   "cell_type": "code",
   "execution_count": 4,
   "id": "aa7eae82-15ee-4c47-885e-7e90ec3be5c3",
   "metadata": {},
   "outputs": [],
   "source": [
    "def get_vendor_Total_Views(vendor_id):\n",
    "    \n",
    "    db_connector = DatabaseConnector()  # Create an instance of DatabaseConnector\n",
    "    # Connect to the database\n",
    "    db_connector.connect_db()\n",
    "    # Get the database connection\n",
    "    connection = db_connector.get_connection()\n",
    "\n",
    "    # If connection is not established, return\n",
    "    if connection is None:\n",
    "        print(\"No connection available to summarize the database.\")\n",
    "        return\n",
    "    cursor = connection.cursor()\n",
    "\n",
    "    try:\n",
    "        # Execute the query to calculate the total count of the specified vendor_id\n",
    "        query = f\"\"\"\n",
    "            SELECT COUNT(*) AS count\n",
    "            FROM vendor_view_logs\n",
    "            WHERE vendor_id = %s\n",
    "        \"\"\"\n",
    "        cursor.execute(query, (vendor_id,))\n",
    "        result = cursor.fetchone()\n",
    "\n",
    "        if result:\n",
    "            return result[0]  # Extract count from the result tuple\n",
    "        else:\n",
    "            return 0  # If no rows are found, return count as 0\n",
    "    except mysql.connector.Error as e:\n",
    "        print(f\"Error: {e}\")\n",
    "        return None\n",
    "    finally:\n",
    "        cursor.close()\n",
    "        db_connector.close_connection()"
   ]
  },
  {
   "cell_type": "code",
   "execution_count": 6,
   "id": "935e8ba0-9685-4f57-b50e-d566b955c827",
   "metadata": {},
   "outputs": [
    {
     "name": "stdout",
     "output_type": "stream",
     "text": [
      "Successfully connected to the database\n",
      "Connection closed\n"
     ]
    },
    {
     "data": {
      "text/plain": [
       "6956"
      ]
     },
     "execution_count": 6,
     "metadata": {},
     "output_type": "execute_result"
    }
   ],
   "source": [
    "get_vendor_Total_Views(26)"
   ]
  },
  {
   "cell_type": "code",
   "execution_count": 7,
   "id": "993f5053-e9fe-4599-9a38-7ec931c45001",
   "metadata": {},
   "outputs": [],
   "source": [
    "import matplotlib.pyplot as plt\n",
    "import numpy as np"
   ]
  },
  {
   "cell_type": "code",
   "execution_count": 17,
   "id": "7775d7e2-494d-4e3f-9b34-af3bb32211bd",
   "metadata": {},
   "outputs": [],
   "source": [
    "def plot_vendor_rank_comparison(vendor_id):\n",
    "    db_connector = DatabaseConnector()  # Create an instance of DatabaseConnector\n",
    "    # Connect to the database\n",
    "    db_connector.connect_db()\n",
    "    # Get the database connection\n",
    "    connection = db_connector.get_connection()\n",
    "\n",
    "    # If connection is not established, return\n",
    "    if connection is None:\n",
    "        print(\"No connection available to retrieve vendor ranks.\")\n",
    "        return\n",
    "\n",
    "    cursor = connection.cursor()\n",
    "\n",
    "    try:\n",
    "        # Execute the query to calculate the total count of views for each vendor\n",
    "        query = \"\"\"\n",
    "            SELECT vendor_id, COUNT(*) AS total_views\n",
    "            FROM vendor_view_logs\n",
    "            GROUP BY vendor_id\n",
    "        \"\"\"\n",
    "        cursor.execute(query)\n",
    "        results = cursor.fetchall()\n",
    "\n",
    "        # Sort results by total views in descending order\n",
    "        sorted_results = sorted(results, key=lambda x: x[1], reverse=True)\n",
    "\n",
    "        # Find rank of the specified vendor\n",
    "        rank = next((i+1 for i, (v_id, _) in enumerate(sorted_results) if v_id == vendor_id), None)\n",
    "\n",
    "        if rank is not None:\n",
    "            # Get the highest rank\n",
    "            highest_rank = 1\n",
    "\n",
    "            # Calculate the ratio of rank of specified vendor to highest rank\n",
    "            vendor_ratio = rank / highest_rank\n",
    "            highest_ratio = highest_rank / highest_rank\n",
    "\n",
    "            # Plotting\n",
    "            plt.figure(figsize=(8, 6))\n",
    "            plt.bar(['Vendor', 'Highest'], [vendor_ratio, highest_ratio], color=['skyblue', 'orange'])\n",
    "            plt.xlabel('Ranking')\n",
    "            plt.ylabel('Rank Ratio')\n",
    "            plt.title('Rank Ratio Comparison')\n",
    "            plt.text(0, vendor_ratio + 0.02, f'Rank: {rank}', ha='center')\n",
    "            plt.text(1, highest_ratio + 0.02, f'Highest Rank: {highest_rank}', ha='center')\n",
    "            plt.ylim(0, 1.1)  # Set y-axis limit to 0-1.1 for better visualization\n",
    "            plt.show()\n",
    "        else:\n",
    "            print(\"Vendor not found.\")\n",
    "\n",
    "    except mysql.connector.Error as e:\n",
    "        print(f\"Error: {e}\")\n",
    "    finally:\n",
    "        cursor.close()\n",
    "        db_connector.close_connection()"
   ]
  },
  {
   "cell_type": "code",
   "execution_count": 19,
   "id": "78e6bdf9-a3b3-41c2-98ea-9b79ce0e0380",
   "metadata": {},
   "outputs": [
    {
     "name": "stdout",
     "output_type": "stream",
     "text": [
      "Successfully connected to the database\n"
     ]
    },
    {
     "data": {
      "image/png": "[encoded data removed]",
      "text/plain": [
       "<Figure size 600x600 with 1 Axes>"
      ]
     },
     "metadata": {},
     "output_type": "display_data"
    },
    {
     "name": "stdout",
     "output_type": "stream",
     "text": [
      "Connection closed\n"
     ]
    }
   ],
   "source": [
    "plot_vendor_rank_ratio(266)"
   ]
  },
  {
   "cell_type": "code",
   "execution_count": 10,
   "id": "ed9a4b00-bfea-4c03-86d4-34fe3aa4a998",
   "metadata": {},
   "outputs": [
    {
     "name": "stdout",
     "output_type": "stream",
     "text": [
      "Successfully connected to the database\n",
      "Connection closed\n",
      "Rank of vendor 266 based on total views: 54\n"
     ]
    }
   ],
   "source": [
    "def get_vendor_rank(vendor_id):\n",
    "    db_connector = DatabaseConnector()  # Create an instance of DatabaseConnector\n",
    "    # Connect to the database\n",
    "    db_connector.connect_db()\n",
    "    # Get the database connection\n",
    "    connection = db_connector.get_connection()\n",
    "\n",
    "    # If connection is not established, return\n",
    "    if connection is None:\n",
    "        print(\"No connection available to retrieve vendor ranks.\")\n",
    "        return\n",
    "\n",
    "    cursor = connection.cursor()\n",
    "\n",
    "    try:\n",
    "        # Execute the query to calculate the total count of views for each vendor\n",
    "        query = \"\"\"\n",
    "            SELECT vendor_id, COUNT(*) AS total_views\n",
    "            FROM vendor_view_logs\n",
    "            GROUP BY vendor_id\n",
    "        \"\"\"\n",
    "        cursor.execute(query)\n",
    "        results = cursor.fetchall()\n",
    "\n",
    "        # Sort results by total views in descending order\n",
    "        sorted_results = sorted(results, key=lambda x: x[1], reverse=True)\n",
    "\n",
    "        # Find rank of the specified vendor\n",
    "        rank = next((i+1 for i, (v_id, _) in enumerate(sorted_results) if v_id == vendor_id), None)\n",
    "\n",
    "        return rank\n",
    "\n",
    "    except mysql.connector.Error as e:\n",
    "        print(f\"Error: {e}\")\n",
    "    finally:\n",
    "        cursor.close()\n",
    "        db_connector.close_connection()\n",
    "\n",
    "# Example usage\n",
    "vendor_id = 266  # Replace with the actual vendor ID\n",
    "rank = get_vendor_rank(vendor_id)\n",
    "if rank is not None:\n",
    "    print(f\"Rank of vendor {vendor_id} based on total views: {rank}\")\n",
    "else:\n",
    "    print(\"Vendor not found or error occurred.\")\n"
   ]
  },
  {
   "cell_type": "code",
   "execution_count": null,
   "id": "ff43ed03-3ae8-46c1-b6ac-70f26af4a03d",
   "metadata": {},
   "outputs": [],
   "source": []
  }
 ],
 "metadata": {
  "kernelspec": {
   "display_name": "Python 3 (ipykernel)",
   "language": "python",
   "name": "python3"
  },
  "language_info": {
   "codemirror_mode": {
    "name": "ipython",
    "version": 3
   },
   "file_extension": ".py",
   "mimetype": "text/x-python",
   "name": "python",
   "nbconvert_exporter": "python",
   "pygments_lexer": "ipython3",
   "version": "3.10.12"
  }
 },
 "nbformat": 4,
 "nbformat_minor": 5
}
