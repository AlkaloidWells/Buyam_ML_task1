{
 "cells": [
  {
   "cell_type": "code",
   "execution_count": 1,
   "id": "d4a42a76-6471-4160-abc3-177e66ff757c",
   "metadata": {},
   "outputs": [],
   "source": [
    "import pandas as pd\n",
    "import mysql\n",
    "from connect import DatabaseConnector"
   ]
  },
  {
   "cell_type": "markdown",
   "id": "47aece0a-d7b0-4395-b9ec-a0ef2a8516bf",
   "metadata": {},
   "source": [
    "# Total Views : from the Vendor Views logs Table We use the vendor_id to count the number views made"
   ]
  },
  {
   "cell_type": "code",
   "execution_count": 2,
   "id": "aa7eae82-15ee-4c47-885e-7e90ec3be5c3",
   "metadata": {},
   "outputs": [],
   "source": [
    "def get_vendor_Total_Views(vendor_id):\n",
    "    \n",
    "    db_connector = DatabaseConnector()  # Create an instance of DatabaseConnector\n",
    "    # Connect to the database\n",
    "    db_connector.connect_db()\n",
    "    # Get the database connection\n",
    "    connection = db_connector.get_connection()\n",
    "\n",
    "    # If connection is not established, return\n",
    "    if connection is None:\n",
    "        print(\"No connection available to summarize the database.\")\n",
    "        return\n",
    "    cursor = connection.cursor()\n",
    "\n",
    "    try:\n",
    "        # Execute the query to calculate the total count of the specified vendor_id\n",
    "        query = f\"\"\"\n",
    "            SELECT COUNT(*) AS count\n",
    "            FROM vendor_view_logs\n",
    "            WHERE vendor_id = %s\n",
    "        \"\"\"\n",
    "        cursor.execute(query, (vendor_id,))\n",
    "        result = cursor.fetchone()\n",
    "\n",
    "        if result:\n",
    "            return result[0]  # Extract count from the result tuple\n",
    "        else:\n",
    "            return 0  # If no rows are found, return count as 0\n",
    "    except mysql.connector.Error as e:\n",
    "        print(f\"Error: {e}\")\n",
    "        return None\n",
    "    finally:\n",
    "        cursor.close()\n",
    "        db_connector.close_connection()"
   ]
  },
  {
   "cell_type": "code",
   "execution_count": 3,
   "id": "935e8ba0-9685-4f57-b50e-d566b955c827",
   "metadata": {},
   "outputs": [
    {
     "name": "stdout",
     "output_type": "stream",
     "text": [
      "Successfully connected to the database\n",
      "Connection closed\n"
     ]
    },
    {
     "data": {
      "text/plain": [
       "6957"
      ]
     },
     "execution_count": 3,
     "metadata": {},
     "output_type": "execute_result"
    }
   ],
   "source": [
    "get_vendor_Total_Views(26)"
   ]
  },
  {
   "cell_type": "code",
   "execution_count": 4,
   "id": "993f5053-e9fe-4599-9a38-7ec931c45001",
   "metadata": {},
   "outputs": [],
   "source": [
    "import matplotlib.pyplot as plt\n",
    "import numpy as np"
   ]
  },
  {
   "cell_type": "code",
   "execution_count": 5,
   "id": "7775d7e2-494d-4e3f-9b34-af3bb32211bd",
   "metadata": {},
   "outputs": [],
   "source": [
    "def plot_vendor_comparison(vendor_id):\n",
    "    db_connector = DatabaseConnector()\n",
    "    db_connector.connect_db()\n",
    "    connection = db_connector.get_connection()\n",
    "\n",
    "    if connection is None:\n",
    "        print(\"No connection available to retrieve vendor counts.\")\n",
    "        return\n",
    "\n",
    "    cursor = connection.cursor()\n",
    "\n",
    "    try:\n",
    "        # Get count for the specified vendor_id and all vendors\n",
    "        query = \"\"\"\n",
    "            SELECT vendor_id, COUNT(*) AS total_views\n",
    "            FROM vendor_view_logs\n",
    "            GROUP BY vendor_id\n",
    "        \"\"\"\n",
    "        cursor.execute(query)\n",
    "        results = cursor.fetchall()\n",
    "\n",
    "        # Create a DataFrame from the results\n",
    "        df = pd.DataFrame(results, columns=['vendor_id', 'total_views'])\n",
    "\n",
    "        # Get count for the specified vendor_id\n",
    "        specified_vendor_count = df[df['vendor_id'] == vendor_id]['total_views'].values[0]\n",
    "\n",
    "        # Get the vendor_id with the highest count\n",
    "        highest_vendor_count = df['total_views'].max()\n",
    "\n",
    "        # Get ranks\n",
    "        df['rank'] = df['total_views'].rank(method='min', ascending=False)\n",
    "        specified_vendor_rank = df[df['vendor_id'] == vendor_id]['rank'].values[0]\n",
    "        highest_vendor_rank = df[df['total_views'] == highest_vendor_count]['rank'].values[0]\n",
    "\n",
    "        # Plotting\n",
    "        plt.figure(figsize=(8, 6))\n",
    "        bars = plt.bar(['Specified Vendor', 'Highest Vendor'], [specified_vendor_count, highest_vendor_count], color=['skyblue', 'orange'])\n",
    "        plt.xlabel('Vendor')\n",
    "        plt.ylabel('Total Views')\n",
    "        plt.title('Comparison of Specified Vendor vs Highest Vendor')\n",
    "\n",
    "        # Add rank numbers at the top of each bar\n",
    "        plt.text(bars[0].get_x() + bars[0].get_width() / 2, bars[0].get_height(), f'Rank: {int(specified_vendor_rank)}', ha='center', va='bottom')\n",
    "        plt.text(bars[1].get_x() + bars[1].get_width() / 2, bars[1].get_height(), f'Rank: {int(highest_vendor_rank)}', ha='center', va='bottom')\n",
    "\n",
    "        plt.show()\n",
    "    except mysql.connector.Error as e:\n",
    "        print(f\"Error: {e}\")\n",
    "    finally:\n",
    "        cursor.close()\n",
    "        db_connector.close_connection()"
   ]
  },
  {
   "cell_type": "markdown",
   "id": "c43e61ac-6885-4092-83d1-d3861ddafc33",
   "metadata": {},
   "source": [
    "# We can ranke our vendor produt views with the highest views"
   ]
  },
  {
   "cell_type": "code",
   "execution_count": 6,
   "id": "78e6bdf9-a3b3-41c2-98ea-9b79ce0e0380",
   "metadata": {},
   "outputs": [
    {
     "name": "stdout",
     "output_type": "stream",
     "text": [
      "Successfully connected to the database\n"
     ]
    },
    {
     "data": {
      "image/png": "[encoded data removed]",
      "text/plain": [
       "<Figure size 800x600 with 1 Axes>"
      ]
     },
     "metadata": {},
     "output_type": "display_data"
    },
    {
     "name": "stdout",
     "output_type": "stream",
     "text": [
      "Connection closed\n"
     ]
    }
   ],
   "source": [
    "plot_vendor_comparison(268)"
   ]
  },
  {
   "cell_type": "code",
   "execution_count": 7,
   "id": "ed9a4b00-bfea-4c03-86d4-34fe3aa4a998",
   "metadata": {},
   "outputs": [
    {
     "name": "stdout",
     "output_type": "stream",
     "text": [
      "Successfully connected to the database\n",
      "Connection closed\n",
      "Is the user with ID 123 a vendor? True\n"
     ]
    }
   ],
   "source": [
    "def is_vendor(user_id):\n",
    "    db_connector = DatabaseConnector()\n",
    "    db_connector.connect_db()\n",
    "    connection = db_connector.get_connection()\n",
    "\n",
    "    if connection is None:\n",
    "        print(\"No connection available to check user type.\")\n",
    "        return False\n",
    "\n",
    "    cursor = connection.cursor()\n",
    "\n",
    "    try:\n",
    "        # Query to check if the user is a vendor\n",
    "        query = \"\"\"\n",
    "            SELECT type\n",
    "            FROM users\n",
    "            WHERE id = %s\n",
    "        \"\"\"\n",
    "        cursor.execute(query, (user_id,))\n",
    "        result = cursor.fetchone()\n",
    "\n",
    "        if result and result[0] == 'vendor':\n",
    "            return True\n",
    "        else:\n",
    "            return False\n",
    "    except mysql.connector.Error as e:\n",
    "        print(f\"Error: {e}\")\n",
    "        return False\n",
    "    finally:\n",
    "        cursor.close()\n",
    "        db_connector.close_connection()\n",
    "\n",
    "\n",
    "# Example usage\n",
    "user_id = 123  # Replace with the actual user ID\n",
    "is_vendor_user = is_vendor(user_id)\n",
    "print(f\"Is the user with ID {user_id} a vendor? {is_vendor_user}\")"
   ]
  },
  {
   "cell_type": "code",
   "execution_count": 8,
   "id": "ff43ed03-3ae8-46c1-b6ac-70f26af4a03d",
   "metadata": {},
   "outputs": [
    {
     "name": "stdout",
     "output_type": "stream",
     "text": [
      "Successfully connected to the database\n",
      "Connection closed\n",
      "Is the user with ID 26 a vendor? True\n"
     ]
    }
   ],
   "source": [
    "# Example usage\n",
    "user_id = 26  # Replace with the actual user ID\n",
    "is_vendor_user = is_vendor(user_id)\n",
    "print(f\"Is the user with ID {user_id} a vendor? {is_vendor_user}\")"
   ]
  },
  {
   "cell_type": "markdown",
   "id": "29bce375-6e86-4953-8d00-a2816626932d",
   "metadata": {},
   "source": [
    "# Unique Costomers Count"
   ]
  },
  {
   "cell_type": "code",
   "execution_count": 9,
   "id": "2ebdbdec-855b-4a49-ac5d-0234c5f3c77f",
   "metadata": {},
   "outputs": [],
   "source": [
    "def get_unique_customers_count(vendor_id):\n",
    "    db_connector = DatabaseConnector()\n",
    "    db_connector.connect_db()\n",
    "    connection = db_connector.get_connection()\n",
    "\n",
    "    if connection is None:\n",
    "        print(\"No connection available to retrieve unique customers count.\")\n",
    "        return None\n",
    "\n",
    "    cursor = connection.cursor()\n",
    "\n",
    "    try:\n",
    "        # Query to get the number of unique customer_id for a given vendor_id\n",
    "        query = \"\"\"\n",
    "            SELECT COUNT(DISTINCT buy_logs.user_id) AS unique_customers_count\n",
    "            FROM vendors\n",
    "            JOIN products ON vendors.user_id = products.user_id\n",
    "            JOIN buy_logs ON products.id = buy_logs.product_id\n",
    "            WHERE vendors.id = %s\n",
    "        \"\"\"\n",
    "        cursor.execute(query, (vendor_id,))\n",
    "        result = cursor.fetchone()\n",
    "\n",
    "        if result:\n",
    "            return result[0]  # Extract unique_customers_count from the result tuple\n",
    "        else:\n",
    "            return 0  # If no rows are found, return 0\n",
    "    except mysql.connector.Error as e:\n",
    "        print(f\"Error: {e}\")\n",
    "        return None\n",
    "    finally:\n",
    "        cursor.close()\n",
    "        db_connector.close_connection()"
   ]
  },
  {
   "cell_type": "code",
   "execution_count": 12,
   "id": "af6d4ae6-8ed9-4529-becc-7f9eada5520c",
   "metadata": {},
   "outputs": [
    {
     "name": "stdout",
     "output_type": "stream",
     "text": [
      "Successfully connected to the database\n",
      "Connection closed\n",
      "Number of unique customers for vendor ID 268: 16\n"
     ]
    }
   ],
   "source": [
    "# Example usage\n",
    "vendor_id = 268  # Replace with the actual vendor ID\n",
    "unique_customers_count = get_unique_customers_count(vendor_id)\n",
    "print(f\"Number of unique customers for vendor ID {vendor_id}: {unique_customers_count}\")"
   ]
  },
  {
   "cell_type": "markdown",
   "id": "74189c29-b5ff-4189-ae6a-9633fbd5896c",
   "metadata": {},
   "source": [
    "# Optimized Unique Costomers Count"
   ]
  },
  {
   "cell_type": "code",
   "execution_count": 13,
   "id": "2db800a3-3bf3-4740-90c5-4f0b4b16ef1f",
   "metadata": {},
   "outputs": [],
   "source": [
    "def get_unique_customers_count(vendor_id):\n",
    "    db_connector = DatabaseConnector()\n",
    "    db_connector.connect_db()\n",
    "    connection = db_connector.get_connection()\n",
    "\n",
    "    if connection is None:\n",
    "        print(\"No connection available to retrieve unique customers count.\")\n",
    "        return None\n",
    "\n",
    "    cursor = connection.cursor()\n",
    "\n",
    "    try:\n",
    "        # Nested query to get the number of unique customer_id for a given vendor_id\n",
    "        query = \"\"\"\n",
    "            SELECT COUNT(DISTINCT user_id) AS unique_customers_count\n",
    "            FROM buy_logs\n",
    "            WHERE product_id IN (\n",
    "                SELECT id\n",
    "                FROM products\n",
    "                WHERE user_id = (\n",
    "                    SELECT user_id\n",
    "                    FROM vendors\n",
    "                    WHERE id = %s\n",
    "                )\n",
    "            )\n",
    "        \"\"\"\n",
    "        cursor.execute(query, (vendor_id,))\n",
    "        result = cursor.fetchone()\n",
    "\n",
    "        if result:\n",
    "            return result[0]  # Extract unique_customers_count from the result tuple\n",
    "        else:\n",
    "            return 0  # If no rows are found, return 0\n",
    "    except mysql.connector.Error as e:\n",
    "        print(f\"Error: {e}\")\n",
    "        return None\n",
    "    finally:\n",
    "        cursor.close()\n",
    "        db_connector.close_connection()\n"
   ]
  },
  {
   "cell_type": "code",
   "execution_count": 15,
   "id": "586f8f11-9136-4c63-b04e-e4856ce2a486",
   "metadata": {},
   "outputs": [
    {
     "name": "stdout",
     "output_type": "stream",
     "text": [
      "Successfully connected to the database\n",
      "Connection closed\n",
      "Number of unique customers for vendor ID 268: 16\n"
     ]
    }
   ],
   "source": [
    "\n",
    "# Example usage\n",
    "vendor_id = 268  # Replace with the actual vendor ID\n",
    "unique_customers_count = get_unique_customers_count(vendor_id)\n",
    "print(f\"Number of unique customers for vendor ID {vendor_id}: {unique_customers_count}\")"
   ]
  },
  {
   "cell_type": "code",
   "execution_count": null,
   "id": "f4dcf8d6-c14d-4991-90ec-0739a5d4a29f",
   "metadata": {},
   "outputs": [],
   "source": []
  }
 ],
 "metadata": {
  "kernelspec": {
   "display_name": "Python 3 (ipykernel)",
   "language": "python",
   "name": "python3"
  },
  "language_info": {
   "codemirror_mode": {
    "name": "ipython",
    "version": 3
   },
   "file_extension": ".py",
   "mimetype": "text/x-python",
   "name": "python",
   "nbconvert_exporter": "python",
   "pygments_lexer": "ipython3",
   "version": "3.10.12"
  }
 },
 "nbformat": 4,
 "nbformat_minor": 5
}
