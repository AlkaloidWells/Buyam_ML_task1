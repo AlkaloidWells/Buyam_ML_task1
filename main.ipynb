{
 "cells": [
  {
   "cell_type": "code",
   "execution_count": 1,
   "id": "568ea4ca-0fe4-4888-8838-163564e71551",
   "metadata": {},
   "outputs": [],
   "source": [
    "import pandas as pd\n",
    "import mysql\n",
    "from connect import DatabaseConnector\n",
    "import matplotlib.pyplot as plt\n",
    "import numpy as np\n",
    "import seaborn as sns"
   ]
  },
  {
   "cell_type": "markdown",
   "id": "57103dda-7e74-4f0b-87ed-c48c71c7b28e",
   "metadata": {},
   "source": [
    "# 1. Total Views : from the Vendor Views logs Table We use the vendor_id to count the number views made"
   ]
  },
  {
   "cell_type": "code",
   "execution_count": 39,
   "id": "f3edc3fa-5065-4cdd-905d-fa9e39505d16",
   "metadata": {},
   "outputs": [],
   "source": [
    "def get_vendor_Total_Views(vendor_id): # vendor_id == user_id\n",
    "    \n",
    "    db_connector = DatabaseConnector()  # Create an instance of DatabaseConnector\n",
    "    # Connect to the database\n",
    "    db_connector.connect_db()\n",
    "    # Get the database connection\n",
    "    connection = db_connector.get_connection()\n",
    "\n",
    "    # If connection is not established, return\n",
    "    if connection is None:\n",
    "        print(\"No connection available to summarize the database.\")\n",
    "        return\n",
    "    cursor = connection.cursor()\n",
    "\n",
    "    try:\n",
    "        # Execute the query to calculate the total count of the specified vendor_id\n",
    "        query = f\"\"\"\n",
    "            SELECT COUNT(*) AS count\n",
    "            FROM vendor_view_logs\n",
    "            WHERE vendor_id = %s\n",
    "        \"\"\"\n",
    "        cursor.execute(query, (vendor_id,))\n",
    "        result = cursor.fetchone()\n",
    "\n",
    "        if result:\n",
    "            return result[0]  # Extract count from the result tuple\n",
    "        else:\n",
    "            return 0  # If no rows are found, return count as 0\n",
    "    except mysql.connector.Error as e:\n",
    "        print(f\"Error: {e}\")\n",
    "        return None\n",
    "    finally:\n",
    "        cursor.close()\n",
    "        db_connector.close_connection()"
   ]
  },
  {
   "cell_type": "code",
   "execution_count": 40,
   "id": "7bc88840-5700-4c87-b43a-6970e8b7e109",
   "metadata": {},
   "outputs": [
    {
     "name": "stdout",
     "output_type": "stream",
     "text": [
      "Successfully connected to the database\n",
      "Connection closed\n"
     ]
    },
    {
     "data": {
      "text/plain": [
       "6976"
      ]
     },
     "execution_count": 40,
     "metadata": {},
     "output_type": "execute_result"
    }
   ],
   "source": [
    "get_vendor_Total_Views(26)"
   ]
  },
  {
   "cell_type": "markdown",
   "id": "3e7ea72a-0a2e-47a5-b928-07810decf8b7",
   "metadata": {},
   "source": [
    "# We can ranke our vendor produt views with the highest views"
   ]
  },
  {
   "cell_type": "code",
   "execution_count": 41,
   "id": "3488922a-ad8a-40bc-8b7c-58a36decada0",
   "metadata": {},
   "outputs": [],
   "source": [
    "def plot_vendor_comparison(vendor_id): # vendor_id == user_id\n",
    "    db_connector = DatabaseConnector()\n",
    "    db_connector.connect_db()\n",
    "    connection = db_connector.get_connection()\n",
    "\n",
    "    if connection is None:\n",
    "        print(\"No connection available to retrieve vendor counts.\")\n",
    "        return\n",
    "\n",
    "    cursor = connection.cursor()\n",
    "\n",
    "    try:\n",
    "        # Get count for the specified vendor_id and all vendors\n",
    "        query = \"\"\"\n",
    "            SELECT vendor_id, COUNT(*) AS total_views\n",
    "            FROM vendor_view_logs\n",
    "            GROUP BY vendor_id\n",
    "        \"\"\"\n",
    "        cursor.execute(query)\n",
    "        results = cursor.fetchall()\n",
    "\n",
    "        # Create a DataFrame from the results\n",
    "        df = pd.DataFrame(results, columns=['vendor_id', 'total_views'])\n",
    "\n",
    "        # Get count for the specified vendor_id\n",
    "        specified_vendor_count = df[df['vendor_id'] == vendor_id]['total_views'].values[0]\n",
    "\n",
    "        # Get the vendor_id with the highest count\n",
    "        highest_vendor_count = df['total_views'].max()\n",
    "\n",
    "        # Get ranks\n",
    "        df['rank'] = df['total_views'].rank(method='min', ascending=False)\n",
    "        specified_vendor_rank = df[df['vendor_id'] == vendor_id]['rank'].values[0]\n",
    "        highest_vendor_rank = df[df['total_views'] == highest_vendor_count]['rank'].values[0]\n",
    "\n",
    "        # Plotting\n",
    "        plt.figure(figsize=(8, 6))\n",
    "        bars = plt.bar(['Specified Vendor', 'Highest Vendor'], [specified_vendor_count, highest_vendor_count], color=['skyblue', 'orange'])\n",
    "        plt.xlabel('Vendor')\n",
    "        plt.ylabel('Total Views')\n",
    "        plt.title('Comparison of Specified Vendor vs Highest Vendor')\n",
    "\n",
    "        # Add rank numbers at the top of each bar\n",
    "        plt.text(bars[0].get_x() + bars[0].get_width() / 2, bars[0].get_height(), f'Rank: {int(specified_vendor_rank)}', ha='center', va='bottom')\n",
    "        plt.text(bars[1].get_x() + bars[1].get_width() / 2, bars[1].get_height(), f'Rank: {int(highest_vendor_rank)}', ha='center', va='bottom')\n",
    "\n",
    "        plt.show()\n",
    "    except mysql.connector.Error as e:\n",
    "        print(f\"Error: {e}\")\n",
    "    finally:\n",
    "        cursor.close()\n",
    "        db_connector.close_connection()"
   ]
  },
  {
   "cell_type": "code",
   "execution_count": 42,
   "id": "989ff027-5ab5-445d-9975-d92c8174a01c",
   "metadata": {},
   "outputs": [
    {
     "name": "stdout",
     "output_type": "stream",
     "text": [
      "Successfully connected to the database\n"
     ]
    },
    {
     "data": {
      "image/png": "[encoded data removed]",
      "text/plain": [
       "<Figure size 800x600 with 1 Axes>"
      ]
     },
     "metadata": {},
     "output_type": "display_data"
    },
    {
     "name": "stdout",
     "output_type": "stream",
     "text": [
      "Connection closed\n"
     ]
    }
   ],
   "source": [
    "plot_vendor_comparison(268)"
   ]
  },
  {
   "cell_type": "markdown",
   "id": "37265f0f-9c7d-445d-a2dc-505d8d3d623b",
   "metadata": {},
   "source": [
    "# is_Vendor"
   ]
  },
  {
   "cell_type": "code",
   "execution_count": 43,
   "id": "46c3905d-6471-4e76-81e1-a7ee9d74f9b1",
   "metadata": {},
   "outputs": [
    {
     "name": "stdout",
     "output_type": "stream",
     "text": [
      "Successfully connected to the database\n",
      "Connection closed\n",
      "Is the user with ID 123 a vendor? True\n"
     ]
    }
   ],
   "source": [
    "def is_vendor(user_id):\n",
    "    db_connector = DatabaseConnector()\n",
    "    db_connector.connect_db()\n",
    "    connection = db_connector.get_connection()\n",
    "\n",
    "    if connection is None:\n",
    "        print(\"No connection available to check user type.\")\n",
    "        return False\n",
    "\n",
    "    cursor = connection.cursor()\n",
    "\n",
    "    try:\n",
    "        # Query to check if the user is a vendor\n",
    "        query = \"\"\"\n",
    "            SELECT type\n",
    "            FROM users\n",
    "            WHERE id = %s\n",
    "        \"\"\"\n",
    "        cursor.execute(query, (user_id,))\n",
    "        result = cursor.fetchone()\n",
    "\n",
    "        if result and result[0] == 'vendor':\n",
    "            return True\n",
    "        else:\n",
    "            return False\n",
    "    except mysql.connector.Error as e:\n",
    "        print(f\"Error: {e}\")\n",
    "        return False\n",
    "    finally:\n",
    "        cursor.close()\n",
    "        db_connector.close_connection()\n",
    "\n",
    "\n",
    "# Example usage\n",
    "user_id = 123  # Replace with the actual user ID\n",
    "is_vendor_user = is_vendor(user_id)\n",
    "print(f\"Is the user with ID {user_id} a vendor? {is_vendor_user}\")"
   ]
  },
  {
   "cell_type": "markdown",
   "id": "80fdd0b7-96ff-4e42-ad70-721caef4f87f",
   "metadata": {},
   "source": [
    "# 2. Unique Customers Count based on the buy_logs, Products, and Vendor table"
   ]
  },
  {
   "cell_type": "code",
   "execution_count": 44,
   "id": "1e78fbdd-72cc-4a31-8b25-ecbb15ca062c",
   "metadata": {},
   "outputs": [],
   "source": [
    "def get_unique_customers_count(vendor_id):\n",
    "    db_connector = DatabaseConnector()\n",
    "    db_connector.connect_db()\n",
    "    connection = db_connector.get_connection()\n",
    "\n",
    "    if connection is None:\n",
    "        print(\"No connection available to retrieve unique customers count.\")\n",
    "        return None\n",
    "\n",
    "    cursor = connection.cursor()\n",
    "\n",
    "    try:\n",
    "        # Query to get the number of unique customer_id for a given vendor_id\n",
    "        query = \"\"\"\n",
    "            SELECT COUNT(DISTINCT buy_logs.user_id) AS unique_customers_count\n",
    "            FROM vendors\n",
    "            JOIN products ON vendors.user_id = products.user_id\n",
    "            JOIN buy_logs ON products.id = buy_logs.product_id\n",
    "            WHERE vendors.user_id = %s\n",
    "        \"\"\"\n",
    "        cursor.execute(query, (vendor_id,))\n",
    "        result = cursor.fetchone()\n",
    "\n",
    "        if result:\n",
    "            return result[0]  # Extract unique_customers_count from the result tuple\n",
    "        else:\n",
    "            return 0  # If no rows are found, return 0\n",
    "    except mysql.connector.Error as e:\n",
    "        print(f\"Error: {e}\")\n",
    "        return None\n",
    "    finally:\n",
    "        cursor.close()\n",
    "        db_connector.close_connection()"
   ]
  },
  {
   "cell_type": "code",
   "execution_count": 45,
   "id": "07bbe5e8-a9fb-4249-9476-c1d895c73fc9",
   "metadata": {},
   "outputs": [
    {
     "name": "stdout",
     "output_type": "stream",
     "text": [
      "Successfully connected to the database\n",
      "Connection closed\n",
      "Number of unique customers for vendor ID 26: 274\n"
     ]
    }
   ],
   "source": [
    "# Example usage\n",
    "vendor_id = 26  # Replace with the actual vendor ID\n",
    "unique_customers_count = get_unique_customers_count(vendor_id)\n",
    "print(f\"Number of unique customers for vendor ID {vendor_id}: {unique_customers_count}\")"
   ]
  },
  {
   "cell_type": "markdown",
   "id": "21bab5ef-edc1-4a74-815e-784650da80a7",
   "metadata": {},
   "source": [
    "# 2.1 Optimized Unique Costomers Count based on the buy_logs, Products, and Vendor table"
   ]
  },
  {
   "cell_type": "code",
   "execution_count": 46,
   "id": "1fbcede5-c6b3-4f1b-9d91-a4093a7f07ab",
   "metadata": {},
   "outputs": [],
   "source": [
    "def get_unique_customers_count(vendor_id): # vendor_id == user_id\n",
    "    db_connector = DatabaseConnector()\n",
    "    db_connector.connect_db()\n",
    "    connection = db_connector.get_connection()\n",
    "\n",
    "    if connection is None:\n",
    "        print(\"No connection available to retrieve unique customers count.\")\n",
    "        return None\n",
    "\n",
    "    cursor = connection.cursor()\n",
    "\n",
    "    try:\n",
    "        # Nested query to get the number of unique customer_id for a given vendor_id\n",
    "        query = \"\"\"\n",
    "            SELECT COUNT(DISTINCT user_id) AS unique_customers_count\n",
    "            FROM buy_logs\n",
    "            WHERE product_id IN (\n",
    "                SELECT id\n",
    "                FROM products\n",
    "                WHERE user_id = (\n",
    "                    SELECT user_id\n",
    "                    FROM vendors\n",
    "                    WHERE user_id = %s\n",
    "                )\n",
    "            )\n",
    "        \"\"\"\n",
    "        cursor.execute(query, (vendor_id,))\n",
    "        result = cursor.fetchone()\n",
    "\n",
    "        if result:\n",
    "            return result[0]  # Extract unique_customers_count from the result tuple\n",
    "        else:\n",
    "            return 0  # If no rows are found, return 0\n",
    "    except mysql.connector.Error as e:\n",
    "        print(f\"Error: {e}\")\n",
    "        return None\n",
    "    finally:\n",
    "        cursor.close()\n",
    "        db_connector.close_connection()\n"
   ]
  },
  {
   "cell_type": "code",
   "execution_count": 47,
   "id": "fab4413f-6529-4b62-b56e-cbfb81a48bba",
   "metadata": {},
   "outputs": [
    {
     "name": "stdout",
     "output_type": "stream",
     "text": [
      "Successfully connected to the database\n",
      "Connection closed\n",
      "Number of unique customers for vendor ID 26: 274\n"
     ]
    }
   ],
   "source": [
    "\n",
    "# Example usage\n",
    "vendor_id = 26  # Replace with the actual vendor ID\n",
    "unique_customers_count = get_unique_customers_count(vendor_id)\n",
    "print(f\"Number of unique customers for vendor ID {vendor_id}: {unique_customers_count}\")"
   ]
  },
  {
   "cell_type": "markdown",
   "id": "0bab503d-b8ab-498e-9884-d9667596cb83",
   "metadata": {},
   "source": [
    "# 3. Number views Per Products  making use of View_product_logs"
   ]
  },
  {
   "cell_type": "code",
   "execution_count": 48,
   "id": "6bc8f494-b82c-4bd4-850f-73fe63762d1d",
   "metadata": {},
   "outputs": [],
   "source": [
    "def get_product_views_count(product_id):\n",
    "    db_connector = DatabaseConnector()\n",
    "    db_connector.connect_db()\n",
    "    connection = db_connector.get_connection()\n",
    "\n",
    "    if connection is None:\n",
    "        print(\"No connection available to retrieve product views count.\")\n",
    "        return None\n",
    "\n",
    "    cursor = connection.cursor()\n",
    "\n",
    "    try:\n",
    "        # Query to get the number of views for the given product_id\n",
    "        query = \"\"\"\n",
    "            SELECT COUNT(*) AS views_count\n",
    "            FROM product_view_logs\n",
    "            WHERE product_id = %s\n",
    "        \"\"\"\n",
    "        cursor.execute(query, (product_id,))\n",
    "        result = cursor.fetchone()\n",
    "\n",
    "        if result:\n",
    "            return result[0]  # Extract views_count from the result tuple\n",
    "        else:\n",
    "            return 0  # If no rows are found, return 0\n",
    "    except mysql.connector.Error as e:\n",
    "        print(f\"Error: {e}\")\n",
    "        return None\n",
    "    finally:\n",
    "        cursor.close()\n",
    "        db_connector.close_connection()"
   ]
  },
  {
   "cell_type": "code",
   "execution_count": 49,
   "id": "23348beb-ed1a-479e-bd33-545af5c9886f",
   "metadata": {},
   "outputs": [
    {
     "name": "stdout",
     "output_type": "stream",
     "text": [
      "Successfully connected to the database\n",
      "Connection closed\n",
      "Number of views for product ID 1: 20\n"
     ]
    }
   ],
   "source": [
    "# Example usage\n",
    "product_id = 1  # Replace with the actual product ID\n",
    "views_count = get_product_views_count(product_id)\n",
    "print(f\"Number of views for product ID {product_id}: {views_count}\")"
   ]
  },
  {
   "cell_type": "markdown",
   "id": "bdb6836a-aba0-4469-932d-84777e3f5208",
   "metadata": {},
   "source": [
    "# 3.1 Now lets compare the views count for each product callisified under a provided vendor_id: product_view_logs, Vendors, Products"
   ]
  },
  {
   "cell_type": "code",
   "execution_count": 50,
   "id": "3aecc730-932f-4287-beea-b1aa09ac2b65",
   "metadata": {},
   "outputs": [],
   "source": [
    "def get_vendor_product_views_and_plot(vendor_id): # vendor_id == user_id\n",
    "    db_connector = DatabaseConnector()\n",
    "    db_connector.connect_db()\n",
    "    connection = db_connector.get_connection()\n",
    "\n",
    "    if connection is None:\n",
    "        print(\"No connection available to retrieve product views count.\")\n",
    "        return None\n",
    "\n",
    "    cursor = connection.cursor()\n",
    "\n",
    "    try:\n",
    "        # Step 1: Get all product IDs and names for the given vendor_id\n",
    "        product_query = \"\"\"\n",
    "            SELECT id, name\n",
    "            FROM products\n",
    "            WHERE user_id = %s\n",
    "        \"\"\"\n",
    "        cursor.execute(product_query, (vendor_id,))\n",
    "        products = cursor.fetchall()\n",
    "\n",
    "        if not products:\n",
    "            print(f\"No products found for vendor_id {vendor_id}\")\n",
    "            return None\n",
    "\n",
    "        # Convert products to a list of tuples\n",
    "        product_data = [(product_id, product_name) for product_id, product_name in products]\n",
    "        product_ids = [product_id for product_id, _ in products]\n",
    "\n",
    "        # Step 2: Get the count of views for each product_id in the list using a single query\n",
    "        format_ids = ','.join(map(str, product_ids))\n",
    "        view_count_query = f\"\"\"\n",
    "            SELECT product_id, COUNT(*) AS product_id_count\n",
    "            FROM product_view_logs\n",
    "            WHERE product_id IN ({format_ids})\n",
    "            GROUP BY product_id\n",
    "        \"\"\"\n",
    "        cursor.execute(view_count_query)\n",
    "        view_counts = cursor.fetchall()\n",
    "\n",
    "        # Create a dictionary from the view counts\n",
    "        view_count_dict = {product_id: count for product_id, count in view_counts}\n",
    "\n",
    "        # Step 3: Prepare the final data with all product_ids, their names, and their counts\n",
    "        product_view_counts = [(product_id, product_name, view_count_dict.get(product_id, 0)) for product_id, product_name in product_data]\n",
    "\n",
    "        # Step 4: Create the DataFrame\n",
    "        df_vendor_product_views = pd.DataFrame(product_view_counts, columns=['product_id', 'product_name', 'product_id_count'])\n",
    "\n",
    "        return df_vendor_product_views\n",
    "    except mysql.connector.Error as e:\n",
    "        print(f\"Error: {e}\")\n",
    "        return None\n",
    "    finally:\n",
    "        cursor.close()\n",
    "        db_connector.close_connection()\n",
    "\n",
    "def plot_dataframe(df):\n",
    "    if df is not None and not df.empty:\n",
    "        plt.figure(figsize=(14, 8))  # Increase the figure size\n",
    "        plt.bar(df['product_name'], df['product_id_count'], color='blue')\n",
    "        plt.xlabel('Product Name')\n",
    "        plt.ylabel('View Count')\n",
    "        plt.title(f'Product View Counts')\n",
    "        plt.xticks(rotation=90)\n",
    "        \n",
    "        # Manually adjust the subplot parameters to give more room for the labels\n",
    "        plt.subplots_adjust(bottom=0.3)  # Adjust the bottom margin\n",
    "        \n",
    "        plt.show()\n",
    "    else:\n",
    "        print(\"The DataFrame is empty or None.\")"
   ]
  },
  {
   "cell_type": "code",
   "execution_count": 51,
   "id": "74d9027f-a0d7-4312-adcb-7696a6fcaa98",
   "metadata": {},
   "outputs": [
    {
     "name": "stdout",
     "output_type": "stream",
     "text": [
      "Successfully connected to the database\n",
      "Connection closed\n",
      "     product_id                                      product_name  \\\n",
      "0            39                                          iphone 7   \n",
      "1            40                                          iphone 7   \n",
      "2            41                      COUCH, SIDE SOFAS, SOFA SETS   \n",
      "3            42                                      5 place Sofa   \n",
      "4            43                                    Titan TV Stand   \n",
      "..          ...                                               ...   \n",
      "926       20206                 Assiette de service en porcelaine   \n",
      "927       20207                 Assiette de service en porcelaine   \n",
      "928       20208  Hyundai Kona 2020 Occasion d’Europe FULL OPTIONS   \n",
      "929       20209                                  Chaise de bureau   \n",
      "930       20211                               Zara for male 100ml   \n",
      "\n",
      "     product_id_count  \n",
      "0                2749  \n",
      "1                4114  \n",
      "2                2051  \n",
      "3                2005  \n",
      "4                1870  \n",
      "..                ...  \n",
      "926                 0  \n",
      "927                 0  \n",
      "928                 0  \n",
      "929                 0  \n",
      "930                 0  \n",
      "\n",
      "[931 rows x 3 columns]\n"
     ]
    }
   ],
   "source": [
    "# Example usage\n",
    "vendor_id = 26  # Replace with the actual vendor ID\n",
    "df_vendor_product_views = get_vendor_product_views_and_plot(vendor_id)\n",
    "print(df_vendor_product_views)"
   ]
  },
  {
   "cell_type": "code",
   "execution_count": 52,
   "id": "d61d0ef5-dd53-41b4-a818-c42398207287",
   "metadata": {},
   "outputs": [
    {
     "name": "stdout",
     "output_type": "stream",
     "text": [
      "Successfully connected to the database\n",
      "Connection closed\n"
     ]
    },
    {
     "data": {
      "image/png": "[encoded data removed]",
      "text/plain": [
       "<Figure size 1400x800 with 1 Axes>"
      ]
     },
     "metadata": {},
     "output_type": "display_data"
    }
   ],
   "source": [
    "vendor_id = 268  # Replace with the actual vendor ID\n",
    "df_vendor_product_views = get_vendor_product_views_and_plot(vendor_id)\n",
    "plot_dataframe(df_vendor_product_views)"
   ]
  },
  {
   "cell_type": "markdown",
   "id": "368297ca-91c3-4e6a-897f-e6ba27b8fa89",
   "metadata": {},
   "source": [
    "# 4. Views Per Catigoury"
   ]
  },
  {
   "cell_type": "code",
   "execution_count": 53,
   "id": "312db7c8-5aa0-42b8-a69c-ea5c3df787c7",
   "metadata": {},
   "outputs": [],
   "source": [
    "def get_customer_category_views_count(vendor_id):\n",
    "    \n",
    "    db_connector = DatabaseConnector()\n",
    "    db_connector.connect_db()\n",
    "    connection = db_connector.get_connection()\n",
    "\n",
    "    if connection is None:\n",
    "        print(\"No connection available to summarize the database.\")\n",
    "        return None\n",
    "\n",
    "    try:\n",
    "        # Subquery to get all category IDs for the provided vendor_id\n",
    "        subquery = f\"\"\"\n",
    "        SELECT DISTINCT category_id\n",
    "        FROM products\n",
    "        WHERE user_id = (SELECT user_id FROM vendors WHERE user_id = {vendor_id})\n",
    "        \"\"\"\n",
    "\n",
    "        # Main query to count views for each category\n",
    "        query = f\"\"\"\n",
    "        SELECT c.id AS category_id, c.name AS category_name, \n",
    "        (SELECT COUNT(*) FROM category_view_logs cvl WHERE cvl.category_id = c.id) AS views_count\n",
    "        FROM categories c\n",
    "        WHERE c.id IN ({subquery})\n",
    "        \"\"\"\n",
    "\n",
    "        df = pd.read_sql(query, connection)\n",
    "        return df\n",
    "    except Exception as e:\n",
    "        print(f\"Error: {e}\")\n",
    "        return None\n",
    "    finally:\n",
    "        db_connector.close_connection()\n",
    "\n",
    "\n",
    "# Plote the returned dataframe \n",
    "\n",
    "def plot_category_views(df):\n",
    "    # Get the DataFrame with category view counts\n",
    "    if df is None or df.empty:\n",
    "            print(\"No data available to plot.\")\n",
    "            return\n",
    "\n",
    "    # Plotting the bar chart\n",
    "    plt.figure(figsize=(12, 6))\n",
    "    sns.barplot(x='category_name', y='views_count', hue='category_name', data=df, palette='viridis', legend=False)\n",
    "\n",
    "    # Adding titles and labels\n",
    "    plt.title('Category Views Count for Vendor')\n",
    "    plt.xlabel('Category Name')\n",
    "    plt.ylabel('Views Count')\n",
    "    \n",
    "    # Rotate category names for better readability\n",
    "    plt.xticks(rotation=45, ha='right')\n",
    "    \n",
    "    plt.tight_layout()  # Adjust layout to prevent clipping of labels\n",
    "    plt.show()\n"
   ]
  },
  {
   "cell_type": "code",
   "execution_count": 54,
   "id": "ca15d412-a3de-4841-870c-930bf438a125",
   "metadata": {},
   "outputs": [
    {
     "name": "stdout",
     "output_type": "stream",
     "text": [
      "Successfully connected to the database\n"
     ]
    },
    {
     "name": "stderr",
     "output_type": "stream",
     "text": [
      "/tmp/ipykernel_39995/1030378465.py:27: UserWarning: pandas only supports SQLAlchemy connectable (engine/connection) or database string URI or sqlite3 DBAPI2 connection. Other DBAPI2 objects are not tested. Please consider using SQLAlchemy.\n",
      "  df = pd.read_sql(query, connection)\n"
     ]
    },
    {
     "name": "stdout",
     "output_type": "stream",
     "text": [
      "Connection closed\n",
      "   category_id       category_name  views_count\n",
      "0           61        Smart Phones         1598\n",
      "1           62  Mobile Accessories         2075\n",
      "2           72            Nintendo          632\n",
      "3           73                XBOX          299\n",
      "4           74           Top Games           86\n",
      "5          193       Playstation 4          788\n",
      "6          196         Playstation          379\n",
      "7          307      Accessory Kits          290\n",
      "8          379      Other Products          447\n"
     ]
    }
   ],
   "source": [
    "# Example usage\n",
    "vendor_id = 266  # Replace with the actual vendor ID\n",
    "df_customer_category_views_count = get_customer_category_views_count(vendor_id)\n",
    "print(df_customer_category_views_count)"
   ]
  },
  {
   "cell_type": "code",
   "execution_count": 55,
   "id": "87f92349-6aba-4a4f-b5c1-238f1e932eb7",
   "metadata": {},
   "outputs": [
    {
     "data": {
      "image/png": "[encoded data removed]",
      "text/plain": [
       "<Figure size 1200x600 with 1 Axes>"
      ]
     },
     "metadata": {},
     "output_type": "display_data"
    }
   ],
   "source": [
    "plot_category_views(df_customer_category_views_count)"
   ]
  },
  {
   "cell_type": "markdown",
   "id": "fb032f3b-7dde-4887-8368-fb3539c35fd8",
   "metadata": {},
   "source": [
    "# 4 Views Per Catigoury"
   ]
  },
  {
   "cell_type": "code",
   "execution_count": 56,
   "id": "f79c76c0-07d6-41c6-a2ab-454cbe828147",
   "metadata": {},
   "outputs": [],
   "source": [
    "def get_customer_category_views_count(vendor_id):\n",
    "    \n",
    "    db_connector = DatabaseConnector()\n",
    "    db_connector.connect_db()\n",
    "    connection = db_connector.get_connection()\n",
    "\n",
    "    if connection is None:\n",
    "        print(\"No connection available to summarize the database.\")\n",
    "        return None\n",
    "\n",
    "    try:\n",
    "        # Subquery to get all category IDs for the provided vendor_id\n",
    "        subquery = f\"\"\"\n",
    "        SELECT DISTINCT category_id\n",
    "        FROM products\n",
    "        WHERE user_id = (SELECT user_id FROM vendors WHERE user_id = {vendor_id})\n",
    "        \"\"\"\n",
    "\n",
    "        # Main query to count views for each category\n",
    "        query = f\"\"\"\n",
    "        SELECT c.id AS category_id, c.name AS category_name, \n",
    "        (SELECT COUNT(*) FROM category_view_logs cvl WHERE cvl.category_id = c.id) AS views_count\n",
    "        FROM categories c\n",
    "        WHERE c.id IN ({subquery})\n",
    "        \"\"\"\n",
    "\n",
    "        df = pd.read_sql(query, connection)\n",
    "        return df\n",
    "    except Exception as e:\n",
    "        print(f\"Error: {e}\")\n",
    "        return None\n",
    "    finally:\n",
    "        db_connector.close_connection()"
   ]
  },
  {
   "cell_type": "code",
   "execution_count": 57,
   "id": "087337ba-8714-46e2-98d3-f444a0485590",
   "metadata": {},
   "outputs": [
    {
     "name": "stdout",
     "output_type": "stream",
     "text": [
      "Successfully connected to the database\n"
     ]
    },
    {
     "name": "stderr",
     "output_type": "stream",
     "text": [
      "/tmp/ipykernel_39995/2648682037.py:27: UserWarning: pandas only supports SQLAlchemy connectable (engine/connection) or database string URI or sqlite3 DBAPI2 connection. Other DBAPI2 objects are not tested. Please consider using SQLAlchemy.\n",
      "  df = pd.read_sql(query, connection)\n"
     ]
    },
    {
     "name": "stdout",
     "output_type": "stream",
     "text": [
      "Connection closed\n",
      "   category_id     category_name  views_count\n",
      "0          137  Women Fragrances          395\n",
      "1          138    Men Fragrances          281\n",
      "2          251           Jewelry           54\n",
      "3          264     Men's Watches          203\n"
     ]
    }
   ],
   "source": [
    "# Example usage\n",
    "vendor_id = 268  # Replace with the actual vendor ID\n",
    "df_customer_category_views_count = get_customer_category_views_count(vendor_id)\n",
    "print(df_customer_category_views_count)"
   ]
  },
  {
   "cell_type": "code",
   "execution_count": 58,
   "id": "2f4b7f4e-ace5-484f-bca0-d903e6c13060",
   "metadata": {},
   "outputs": [],
   "source": [
    "def plot_category_views(df):\n",
    "    # Get the DataFrame with category view counts\n",
    "\n",
    "    if df is None or df.empty:\n",
    "        print(\"No data available to plot.\")\n",
    "        return\n",
    "\n",
    "    # Plotting the bar chart\n",
    "    plt.figure(figsize=(12, 6))\n",
    "    sns.barplot(x='category_name', y='views_count', data=df, palette='viridis')\n",
    "\n",
    "    # Adding titles and labels\n",
    "    plt.title('Category Views Count for Vendor')\n",
    "    plt.xlabel('Category Name')\n",
    "    plt.ylabel('Views Count')\n",
    "    \n",
    "    # Rotate category names for better readability\n",
    "    plt.xticks(rotation=45, ha='right')\n",
    "    \n",
    "    plt.tight_layout()  # Adjust layout to prevent clipping of labels\n",
    "    plt.show()"
   ]
  },
  {
   "cell_type": "code",
   "execution_count": 59,
   "id": "9a368fb5-0c60-42ba-bd41-57e763c48268",
   "metadata": {},
   "outputs": [
    {
     "name": "stderr",
     "output_type": "stream",
     "text": [
      "/tmp/ipykernel_39995/2659581016.py:10: FutureWarning: \n",
      "\n",
      "Passing `palette` without assigning `hue` is deprecated and will be removed in v0.14.0. Assign the `x` variable to `hue` and set `legend=False` for the same effect.\n",
      "\n",
      "  sns.barplot(x='category_name', y='views_count', data=df, palette='viridis')\n"
     ]
    },
    {
     "data": {
      "image/png": "[encoded data removed]",
      "text/plain": [
       "<Figure size 1200x600 with 1 Axes>"
      ]
     },
     "metadata": {},
     "output_type": "display_data"
    }
   ],
   "source": [
    "plot_category_views(df_customer_category_views_count)"
   ]
  },
  {
   "cell_type": "markdown",
   "id": "5e4b2c6c-3128-4278-b7b6-dc4683c49485",
   "metadata": {},
   "source": [
    "# 5. Views overtime - group by month for now"
   ]
  },
  {
   "cell_type": "code",
   "execution_count": 60,
   "id": "bf6aa56b-49f6-475a-92fe-25f89731259f",
   "metadata": {},
   "outputs": [],
   "source": [
    "def get_product_views_over_time(vendor_id):\n",
    "    db_connector = DatabaseConnector()\n",
    "    db_connector.connect_db()\n",
    "    connection = db_connector.get_connection()\n",
    "\n",
    "    if connection is None:\n",
    "        print(\"No connection available to get the view count.\")\n",
    "        return None\n",
    "\n",
    "    try:\n",
    "        query = \"\"\"\n",
    "        SELECT \n",
    "            DATE_FORMAT(pvl.created_at, '%Y-%m') AS month,\n",
    "            COUNT(pvl.id) AS view_count\n",
    "        FROM \n",
    "            product_view_logs pvl\n",
    "        JOIN \n",
    "            products p ON p.id = pvl.product_id\n",
    "        WHERE \n",
    "            p.user_id = %s\n",
    "        GROUP BY \n",
    "            DATE_FORMAT(pvl.created_at, '%Y-%m')\n",
    "        ORDER BY \n",
    "            month\n",
    "        \"\"\"\n",
    "        \n",
    "        # Execute the query\n",
    "        cursor = connection.cursor(dictionary=True)\n",
    "        cursor.execute(query, (vendor_id,))\n",
    "        result = cursor.fetchall()\n",
    "        \n",
    "        # Convert the result to a DataFrame\n",
    "        df = pd.DataFrame(result)\n",
    "        \n",
    "        return df\n",
    "    except Exception as e:\n",
    "        print(f\"Error: {e}\")\n",
    "        return None\n",
    "    finally:\n",
    "        cursor.close()\n",
    "        db_connector.close_connection()\n",
    "\n",
    "def plot_views_over_time(df):\n",
    "\n",
    "    # Plotting the data\n",
    "    plt.figure(figsize=(12, 6))\n",
    "    sns.barplot(x='month', y='view_count', data=df, palette='viridis')\n",
    "    plt.title('Product Views Over Time')\n",
    "    plt.xlabel('Month')\n",
    "    plt.ylabel('View Count')\n",
    "    plt.xticks(rotation=45)\n",
    "    plt.tight_layout()\n",
    "    plt.show()"
   ]
  },
  {
   "cell_type": "code",
   "execution_count": 61,
   "id": "65bcb619-a836-408f-be57-d6a2135a7386",
   "metadata": {},
   "outputs": [
    {
     "name": "stdout",
     "output_type": "stream",
     "text": [
      "Successfully connected to the database\n",
      "Connection closed\n",
      "      month  view_count\n",
      "0   2021-10           1\n",
      "1   2021-11         309\n",
      "2   2021-12         633\n",
      "3   2022-01          41\n",
      "4   2022-02          10\n",
      "5   2022-03           6\n",
      "6   2022-04          16\n",
      "7   2022-05          15\n",
      "8   2022-06          14\n",
      "9   2022-07          12\n",
      "10  2022-08          16\n",
      "11  2022-09           5\n",
      "12  2022-10           3\n",
      "13  2022-11           2\n",
      "14  2023-01           8\n",
      "15  2023-02           4\n",
      "16  2023-03           2\n",
      "17  2023-04           2\n",
      "18  2023-05           3\n",
      "19  2023-06           2\n",
      "20  2023-07           8\n",
      "21  2024-01           1\n",
      "22  2024-02           3\n",
      "23  2024-03           2\n"
     ]
    },
    {
     "name": "stderr",
     "output_type": "stream",
     "text": [
      "/tmp/ipykernel_39995/471611969.py:47: FutureWarning: \n",
      "\n",
      "Passing `palette` without assigning `hue` is deprecated and will be removed in v0.14.0. Assign the `x` variable to `hue` and set `legend=False` for the same effect.\n",
      "\n",
      "  sns.barplot(x='month', y='view_count', data=df, palette='viridis')\n"
     ]
    },
    {
     "data": {
      "image/png": "[encoded data removed]",
      "text/plain": [
       "<Figure size 1200x600 with 1 Axes>"
      ]
     },
     "metadata": {},
     "output_type": "display_data"
    }
   ],
   "source": [
    "# Example usage\n",
    "vendor_id = 266  # Replace with the actual vendor ID\n",
    "df_views_over_time = get_product_views_over_time(vendor_id)\n",
    "if df_views_over_time is not None:\n",
    "    print(df_views_over_time)\n",
    "    plot_views_over_time(df_views_over_time)"
   ]
  },
  {
   "cell_type": "markdown",
   "id": "d004c30c-d8cf-4e4e-a77a-f73013145a62",
   "metadata": {},
   "source": [
    "# 6 Views Per user"
   ]
  },
  {
   "cell_type": "code",
   "execution_count": 62,
   "id": "16ddcc1f-457b-44c4-8db0-417d31272a85",
   "metadata": {},
   "outputs": [],
   "source": [
    "def get_user_view_count(user_id):\n",
    "    db_connector = DatabaseConnector()\n",
    "    db_connector.connect_db()\n",
    "    connection = db_connector.get_connection()\n",
    "\n",
    "    if connection is None:\n",
    "        print(\"No connection available to get the view count.\")\n",
    "        return None\n",
    "\n",
    "    try:\n",
    "        query = \"\"\"\n",
    "        SELECT COUNT(*) AS view_count\n",
    "        FROM product_view_logs\n",
    "        WHERE user_id = %s\n",
    "        \"\"\"\n",
    "        \n",
    "        # Use SQLAlchemy engine to execute the query\n",
    "        df = pd.read_sql(query, connection, params=(user_id,))\n",
    "        \n",
    "        # Return the view count from the DataFrame\n",
    "        return df['view_count'].iloc[0] if not df.empty else 0\n",
    "    except Exception as e:\n",
    "        print(f\"Error: {e}\")\n",
    "        return None\n",
    "    finally:\n",
    "        db_connector.close_connection()"
   ]
  },
  {
   "cell_type": "code",
   "execution_count": 63,
   "id": "56b70481-af6c-4f4e-af5f-8cf840f328dc",
   "metadata": {},
   "outputs": [
    {
     "name": "stdout",
     "output_type": "stream",
     "text": [
      "Successfully connected to the database\n"
     ]
    },
    {
     "name": "stderr",
     "output_type": "stream",
     "text": [
      "/tmp/ipykernel_39995/2386561411.py:18: UserWarning: pandas only supports SQLAlchemy connectable (engine/connection) or database string URI or sqlite3 DBAPI2 connection. Other DBAPI2 objects are not tested. Please consider using SQLAlchemy.\n",
      "  df = pd.read_sql(query, connection, params=(user_id,))\n"
     ]
    },
    {
     "name": "stdout",
     "output_type": "stream",
     "text": [
      "Connection closed\n",
      "User 292 has 194 views.\n"
     ]
    }
   ],
   "source": [
    "# Example usage\n",
    "user_id = 292  # Replace with the actual user ID\n",
    "view_count = get_user_view_count(user_id)\n",
    "print(f\"User {user_id} has {view_count} views.\")"
   ]
  },
  {
   "cell_type": "markdown",
   "id": "b510385f-a256-4fdb-8638-916e50dc482b",
   "metadata": {},
   "source": [
    "# 6.1 Views Per USer"
   ]
  },
  {
   "cell_type": "code",
   "execution_count": 64,
   "id": "e457c411-bc48-4b90-b1a9-74f6dc7b24ee",
   "metadata": {},
   "outputs": [],
   "source": [
    "def get_user_view_count(user_id):\n",
    "    db_connector = DatabaseConnector()\n",
    "    db_connector.connect_db()\n",
    "    connection = db_connector.get_connection()\n",
    "\n",
    "    if connection is None:\n",
    "        print(\"No connection available to get the view count.\")\n",
    "        return None\n",
    "\n",
    "    try:\n",
    "        query = \"\"\"\n",
    "        SELECT COUNT(*) AS view_count\n",
    "        FROM product_view_logs\n",
    "        WHERE user_id = %s\n",
    "        \"\"\"\n",
    "        \n",
    "        # Use SQLAlchemy engine to execute the query\n",
    "        df = pd.read_sql(query, connection, params=(user_id,))\n",
    "        \n",
    "        # Return the view count from the DataFrame\n",
    "        return df['view_count'].iloc[0] if not df.empty else 0\n",
    "    except Exception as e:\n",
    "        print(f\"Error: {e}\")\n",
    "        return None\n",
    "    finally:\n",
    "        db_connector.close_connection()"
   ]
  },
  {
   "cell_type": "code",
   "execution_count": 65,
   "id": "eb0c27b3-392a-4cd9-905b-b41df5ade9ec",
   "metadata": {},
   "outputs": [
    {
     "name": "stdout",
     "output_type": "stream",
     "text": [
      "Successfully connected to the database\n"
     ]
    },
    {
     "name": "stderr",
     "output_type": "stream",
     "text": [
      "/tmp/ipykernel_39995/2386561411.py:18: UserWarning: pandas only supports SQLAlchemy connectable (engine/connection) or database string URI or sqlite3 DBAPI2 connection. Other DBAPI2 objects are not tested. Please consider using SQLAlchemy.\n",
      "  df = pd.read_sql(query, connection, params=(user_id,))\n"
     ]
    },
    {
     "name": "stdout",
     "output_type": "stream",
     "text": [
      "Connection closed\n",
      "User 292 has 194 views.\n"
     ]
    }
   ],
   "source": [
    "# Example usage\n",
    "user_id = 292  # Replace with the actual user ID\n",
    "view_count = get_user_view_count(user_id)\n",
    "print(f\"User {user_id} has {view_count} views.\")"
   ]
  },
  {
   "cell_type": "markdown",
   "id": "9199ec49-1bcc-4072-b188-9f5a92aa0ff7",
   "metadata": {},
   "source": [
    "# 7. Repeat views - products users viewed multiple times"
   ]
  },
  {
   "cell_type": "code",
   "execution_count": 66,
   "id": "bbbfd5f4-80d1-411b-84dc-62a0d50dbd15",
   "metadata": {},
   "outputs": [],
   "source": [
    "def get_user_product_views(vendor_id):\n",
    "    db_connector = DatabaseConnector()\n",
    "    db_connector.connect_db()\n",
    "    connection = db_connector.get_connection()\n",
    "\n",
    "    if connection is None:\n",
    "        print(\"No connection available to get the view count.\")\n",
    "        return None\n",
    "\n",
    "    try:\n",
    "        query = \"\"\"\n",
    "        SELECT \n",
    "            p.id AS product_id,\n",
    "            p.name AS product_name,\n",
    "            pvl.user_id,\n",
    "            COUNT(pvl.id) AS view_count\n",
    "        FROM \n",
    "            product_view_logs pvl\n",
    "        JOIN \n",
    "            products p ON p.id = pvl.product_id\n",
    "        WHERE \n",
    "            p.user_id = %s\n",
    "        GROUP BY \n",
    "            p.id, p.name, pvl.user_id\n",
    "        ORDER BY \n",
    "            p.id, pvl.user_id\n",
    "        \"\"\"\n",
    "        \n",
    "        # Execute the query\n",
    "        cursor = connection.cursor()\n",
    "        cursor.execute(query, (vendor_id,))\n",
    "        rows = cursor.fetchall()\n",
    "        \n",
    "        # Create a DataFrame\n",
    "        df = pd.DataFrame(rows, columns=['product_id', 'product_name', 'user_id', 'view_count'])\n",
    "        \n",
    "        return df\n",
    "    except Error as e:\n",
    "        print(f\"Error: {e}\")\n",
    "        return None\n",
    "    finally:\n",
    "        cursor.close()\n",
    "        db_connector.close_connection()"
   ]
  },
  {
   "cell_type": "code",
   "execution_count": 67,
   "id": "03e60a1c-d9d5-4c6b-9070-9675dd6ecefc",
   "metadata": {},
   "outputs": [
    {
     "name": "stdout",
     "output_type": "stream",
     "text": [
      "Successfully connected to the database\n",
      "Connection closed\n",
      "     product_id            product_name  user_id  view_count\n",
      "0           468  Parfum de luxe Lacoste        0           4\n",
      "1           468  Parfum de luxe Lacoste      115           6\n",
      "2           468  Parfum de luxe Lacoste      292           4\n",
      "3           468  Parfum de luxe Lacoste     1655           4\n",
      "4           468  Parfum de luxe Lacoste     1661           5\n",
      "..          ...                     ...      ...         ...\n",
      "461        2064             Wrist watch     2783           1\n",
      "462        2064             Wrist watch     4360           3\n",
      "463        2064             Wrist watch     7482           1\n",
      "464        2065            Wrist  watch     4360           1\n",
      "465        2065            Wrist  watch     8051           1\n",
      "\n",
      "[466 rows x 4 columns]\n"
     ]
    }
   ],
   "source": [
    "# Example usage\n",
    "vendor_id = 268  # Replace with the actual vendor ID\n",
    "df_user_product_views = get_user_product_views(vendor_id)\n",
    "if df_user_product_views is not None:\n",
    "    print(df_user_product_views)"
   ]
  },
  {
   "cell_type": "markdown",
   "id": "1a893038-dec4-434e-b792-f4ff53a654aa",
   "metadata": {},
   "source": [
    "# 8. Views by location - lat and long column of table"
   ]
  },
  {
   "cell_type": "code",
   "execution_count": 68,
   "id": "1e9a9700-21b8-4f72-8a14-7b8e76c90779",
   "metadata": {},
   "outputs": [],
   "source": [
    "def get_views_by_location(vendor_id):\n",
    "    db_connector = DatabaseConnector()\n",
    "    db_connector.connect_db()\n",
    "    connection = db_connector.get_connection()\n",
    "\n",
    "    if connection is None:\n",
    "        print(\"No connection available to get the view count.\")\n",
    "        return None\n",
    "\n",
    "    try:\n",
    "        query = \"\"\"\n",
    "        SELECT \n",
    "            pvl.user_lat AS latitude,\n",
    "            pvl.user_long AS longitude,\n",
    "            COUNT(pvl.id) AS view_count\n",
    "        FROM \n",
    "            product_view_logs pvl\n",
    "        JOIN \n",
    "            products p ON p.id = pvl.product_id\n",
    "        JOIN\n",
    "            vendors v ON v.user_id = p.user_id\n",
    "        WHERE \n",
    "            v.user_id = %s\n",
    "        GROUP BY \n",
    "            pvl.user_lat, pvl.user_long\n",
    "        ORDER BY \n",
    "            view_count DESC\n",
    "        \"\"\"\n",
    "        \n",
    "        # Execute the query\n",
    "        cursor = connection.cursor()\n",
    "        cursor.execute(query, (vendor_id,))\n",
    "        rows = cursor.fetchall()\n",
    "        \n",
    "        # Create a DataFrame\n",
    "        df = pd.DataFrame(rows, columns=['latitude', 'longitude', 'view_count'])\n",
    "        \n",
    "        return df\n",
    "    except Error as e:\n",
    "        print(f\"Error: {e}\")\n",
    "        return None\n",
    "    finally:\n",
    "        cursor.close()\n",
    "        db_connector.close_connection()"
   ]
  },
  {
   "cell_type": "code",
   "execution_count": 69,
   "id": "c5b0fd97-9e02-45d6-9e1a-5b4cdcdb9efa",
   "metadata": {},
   "outputs": [
    {
     "name": "stdout",
     "output_type": "stream",
     "text": [
      "Successfully connected to the database\n",
      "Connection closed\n",
      "     latitude  longitude  view_count\n",
      "0    0.000000   0.000000         813\n",
      "1         NaN        NaN         287\n",
      "2    3.853390  11.486984         283\n",
      "3    3.879746  11.478107          60\n",
      "4    4.164829   9.241319          45\n",
      "..        ...        ...         ...\n",
      "139  3.832735  11.494843           1\n",
      "140  4.161263   9.302296           1\n",
      "141  3.878818  11.484076           1\n",
      "142  4.153900   9.256559           1\n",
      "143  4.045136   9.693161           1\n",
      "\n",
      "[144 rows x 3 columns]\n"
     ]
    }
   ],
   "source": [
    "# Example usage\n",
    "vendor_id = 268  # Replace with the actual vendor ID\n",
    "df_views_by_location = get_views_by_location(vendor_id)\n",
    "if df_views_by_location is not None:\n",
    "    print(df_views_by_location)"
   ]
  },
  {
   "cell_type": "markdown",
   "id": "0064ac03-5e4f-4e89-afd7-e25346e51881",
   "metadata": {},
   "source": [
    "# 9. Views frequency over time - hourly and daily"
   ]
  },
  {
   "cell_type": "code",
   "execution_count": 70,
   "id": "67a874c1-4f26-44c7-af73-354c694967ae",
   "metadata": {},
   "outputs": [],
   "source": [
    "def get_views_frequency(vendor_id):\n",
    "    db_connector = DatabaseConnector()\n",
    "    db_connector.connect_db()\n",
    "    connection = db_connector.get_connection()\n",
    "\n",
    "    if connection is None:\n",
    "        print(\"No connection available to get the view count.\")\n",
    "        return None\n",
    "\n",
    "    try:\n",
    "        # Query to get product views grouped by hour and day\n",
    "        query_hourly = \"\"\"\n",
    "        SELECT \n",
    "            p.name AS product_name,\n",
    "            HOUR(pvl.created_at) AS view_hour,\n",
    "            COUNT(pvl.id) AS view_count_per_hour\n",
    "        FROM \n",
    "            product_view_logs pvl\n",
    "        JOIN \n",
    "            products p ON p.id = pvl.product_id\n",
    "        JOIN\n",
    "            vendors v ON v.user_id = p.user_id\n",
    "        WHERE \n",
    "            v.user_id = %s\n",
    "        GROUP BY \n",
    "            p.id, view_hour\n",
    "        ORDER BY \n",
    "            p.name, view_hour\n",
    "        \"\"\"\n",
    "        \n",
    "        query_daily = \"\"\"\n",
    "        SELECT \n",
    "            p.name AS product_name,\n",
    "            DATE(pvl.created_at) AS view_date,\n",
    "            COUNT(pvl.id) AS view_count_per_day\n",
    "        FROM \n",
    "            product_view_logs pvl\n",
    "        JOIN \n",
    "            products p ON p.id = pvl.product_id\n",
    "        JOIN\n",
    "            vendors v ON v.user_id = p.user_id\n",
    "        WHERE \n",
    "            v.user_id = %s\n",
    "        GROUP BY \n",
    "            p.id, view_date\n",
    "        ORDER BY \n",
    "            p.name, view_date\n",
    "        \"\"\"\n",
    "        \n",
    "        # Use SQLAlchemy engine to execute the query\n",
    "        df_hourly = pd.read_sql(query_hourly, connection, params=[vendor_id])\n",
    "        df_daily = pd.read_sql(query_daily, connection, params=[vendor_id])\n",
    "        \n",
    "        return df_hourly, df_daily\n",
    "    except Error as e:\n",
    "        print(f\"Error: {e}\")\n",
    "        return None, None\n",
    "    finally:\n",
    "        db_connector.close_connection()"
   ]
  },
  {
   "cell_type": "code",
   "execution_count": 72,
   "id": "d1a82ef5-0d5e-411b-811a-5986664b6802",
   "metadata": {},
   "outputs": [
    {
     "name": "stdout",
     "output_type": "stream",
     "text": [
      "Successfully connected to the database\n"
     ]
    },
    {
     "name": "stderr",
     "output_type": "stream",
     "text": [
      "/tmp/ipykernel_39995/4214714763.py:51: UserWarning: pandas only supports SQLAlchemy connectable (engine/connection) or database string URI or sqlite3 DBAPI2 connection. Other DBAPI2 objects are not tested. Please consider using SQLAlchemy.\n",
      "  df_hourly = pd.read_sql(query_hourly, connection, params=[vendor_id])\n",
      "/tmp/ipykernel_39995/4214714763.py:52: UserWarning: pandas only supports SQLAlchemy connectable (engine/connection) or database string URI or sqlite3 DBAPI2 connection. Other DBAPI2 objects are not tested. Please consider using SQLAlchemy.\n",
      "  df_daily = pd.read_sql(query_daily, connection, params=[vendor_id])\n"
     ]
    },
    {
     "name": "stdout",
     "output_type": "stream",
     "text": [
      "Connection closed\n"
     ]
    }
   ],
   "source": [
    "# Example usage\n",
    "vendor_id = 268  # Replace with the actual vendor ID\n",
    "df_hourly, df_daily = get_views_frequency(vendor_id)"
   ]
  },
  {
   "cell_type": "code",
   "execution_count": 73,
   "id": "ce81728c-ece3-4a17-b1af-8027b74a90ef",
   "metadata": {},
   "outputs": [
    {
     "data": {
      "text/html": [
       "<div>\n",
       "<style scoped>\n",
       "    .dataframe tbody tr th:only-of-type {\n",
       "        vertical-align: middle;\n",
       "    }\n",
       "\n",
       "    .dataframe tbody tr th {\n",
       "        vertical-align: top;\n",
       "    }\n",
       "\n",
       "    .dataframe thead th {\n",
       "        text-align: right;\n",
       "    }\n",
       "</style>\n",
       "<table border=\"1\" class=\"dataframe\">\n",
       "  <thead>\n",
       "    <tr style=\"text-align: right;\">\n",
       "      <th></th>\n",
       "      <th>product_name</th>\n",
       "      <th>view_hour</th>\n",
       "      <th>view_count_per_hour</th>\n",
       "    </tr>\n",
       "  </thead>\n",
       "  <tbody>\n",
       "    <tr>\n",
       "      <th>0</th>\n",
       "      <td>Coffret One Million</td>\n",
       "      <td>0</td>\n",
       "      <td>4</td>\n",
       "    </tr>\n",
       "    <tr>\n",
       "      <th>1</th>\n",
       "      <td>Coffret One Million</td>\n",
       "      <td>1</td>\n",
       "      <td>7</td>\n",
       "    </tr>\n",
       "    <tr>\n",
       "      <th>2</th>\n",
       "      <td>Coffret One Million</td>\n",
       "      <td>2</td>\n",
       "      <td>2</td>\n",
       "    </tr>\n",
       "    <tr>\n",
       "      <th>3</th>\n",
       "      <td>Coffret One Million</td>\n",
       "      <td>3</td>\n",
       "      <td>4</td>\n",
       "    </tr>\n",
       "    <tr>\n",
       "      <th>4</th>\n",
       "      <td>Coffret One Million</td>\n",
       "      <td>4</td>\n",
       "      <td>6</td>\n",
       "    </tr>\n",
       "    <tr>\n",
       "      <th>...</th>\n",
       "      <td>...</td>\n",
       "      <td>...</td>\n",
       "      <td>...</td>\n",
       "    </tr>\n",
       "    <tr>\n",
       "      <th>349</th>\n",
       "      <td>wrist watch</td>\n",
       "      <td>4</td>\n",
       "      <td>1</td>\n",
       "    </tr>\n",
       "    <tr>\n",
       "      <th>350</th>\n",
       "      <td>Wrist watch</td>\n",
       "      <td>8</td>\n",
       "      <td>4</td>\n",
       "    </tr>\n",
       "    <tr>\n",
       "      <th>351</th>\n",
       "      <td>Wrist watch</td>\n",
       "      <td>8</td>\n",
       "      <td>1</td>\n",
       "    </tr>\n",
       "    <tr>\n",
       "      <th>352</th>\n",
       "      <td>Wrist watch</td>\n",
       "      <td>14</td>\n",
       "      <td>1</td>\n",
       "    </tr>\n",
       "    <tr>\n",
       "      <th>353</th>\n",
       "      <td>Wrist watch</td>\n",
       "      <td>22</td>\n",
       "      <td>1</td>\n",
       "    </tr>\n",
       "  </tbody>\n",
       "</table>\n",
       "<p>354 rows × 3 columns</p>\n",
       "</div>"
      ],
      "text/plain": [
       "            product_name  view_hour  view_count_per_hour\n",
       "0    Coffret One Million          0                    4\n",
       "1    Coffret One Million          1                    7\n",
       "2    Coffret One Million          2                    2\n",
       "3    Coffret One Million          3                    4\n",
       "4    Coffret One Million          4                    6\n",
       "..                   ...        ...                  ...\n",
       "349          wrist watch          4                    1\n",
       "350          Wrist watch          8                    4\n",
       "351          Wrist watch          8                    1\n",
       "352          Wrist watch         14                    1\n",
       "353          Wrist watch         22                    1\n",
       "\n",
       "[354 rows x 3 columns]"
      ]
     },
     "execution_count": 73,
     "metadata": {},
     "output_type": "execute_result"
    }
   ],
   "source": [
    "df_hourly"
   ]
  },
  {
   "cell_type": "code",
   "execution_count": 74,
   "id": "55d68224-0fd2-4342-9653-eeb55a1b9378",
   "metadata": {},
   "outputs": [
    {
     "data": {
      "text/html": [
       "<div>\n",
       "<style scoped>\n",
       "    .dataframe tbody tr th:only-of-type {\n",
       "        vertical-align: middle;\n",
       "    }\n",
       "\n",
       "    .dataframe tbody tr th {\n",
       "        vertical-align: top;\n",
       "    }\n",
       "\n",
       "    .dataframe thead th {\n",
       "        text-align: right;\n",
       "    }\n",
       "</style>\n",
       "<table border=\"1\" class=\"dataframe\">\n",
       "  <thead>\n",
       "    <tr style=\"text-align: right;\">\n",
       "      <th></th>\n",
       "      <th>product_name</th>\n",
       "      <th>view_date</th>\n",
       "      <th>view_count_per_day</th>\n",
       "    </tr>\n",
       "  </thead>\n",
       "  <tbody>\n",
       "    <tr>\n",
       "      <th>0</th>\n",
       "      <td>Coffret One Million</td>\n",
       "      <td>2021-11-04</td>\n",
       "      <td>2</td>\n",
       "    </tr>\n",
       "    <tr>\n",
       "      <th>1</th>\n",
       "      <td>Coffret One Million</td>\n",
       "      <td>2021-11-05</td>\n",
       "      <td>1</td>\n",
       "    </tr>\n",
       "    <tr>\n",
       "      <th>2</th>\n",
       "      <td>Coffret One Million</td>\n",
       "      <td>2021-11-06</td>\n",
       "      <td>1</td>\n",
       "    </tr>\n",
       "    <tr>\n",
       "      <th>3</th>\n",
       "      <td>Coffret One Million</td>\n",
       "      <td>2021-11-11</td>\n",
       "      <td>3</td>\n",
       "    </tr>\n",
       "    <tr>\n",
       "      <th>4</th>\n",
       "      <td>Coffret One Million</td>\n",
       "      <td>2021-11-13</td>\n",
       "      <td>3</td>\n",
       "    </tr>\n",
       "    <tr>\n",
       "      <th>...</th>\n",
       "      <td>...</td>\n",
       "      <td>...</td>\n",
       "      <td>...</td>\n",
       "    </tr>\n",
       "    <tr>\n",
       "      <th>589</th>\n",
       "      <td>Wrist watch</td>\n",
       "      <td>2022-02-16</td>\n",
       "      <td>1</td>\n",
       "    </tr>\n",
       "    <tr>\n",
       "      <th>590</th>\n",
       "      <td>Wrist watch</td>\n",
       "      <td>2022-02-17</td>\n",
       "      <td>3</td>\n",
       "    </tr>\n",
       "    <tr>\n",
       "      <th>591</th>\n",
       "      <td>Wrist watch</td>\n",
       "      <td>2022-02-17</td>\n",
       "      <td>1</td>\n",
       "    </tr>\n",
       "    <tr>\n",
       "      <th>592</th>\n",
       "      <td>wrist watch</td>\n",
       "      <td>2022-05-28</td>\n",
       "      <td>1</td>\n",
       "    </tr>\n",
       "    <tr>\n",
       "      <th>593</th>\n",
       "      <td>Wrist watch</td>\n",
       "      <td>2023-03-28</td>\n",
       "      <td>1</td>\n",
       "    </tr>\n",
       "  </tbody>\n",
       "</table>\n",
       "<p>594 rows × 3 columns</p>\n",
       "</div>"
      ],
      "text/plain": [
       "            product_name   view_date  view_count_per_day\n",
       "0    Coffret One Million  2021-11-04                   2\n",
       "1    Coffret One Million  2021-11-05                   1\n",
       "2    Coffret One Million  2021-11-06                   1\n",
       "3    Coffret One Million  2021-11-11                   3\n",
       "4    Coffret One Million  2021-11-13                   3\n",
       "..                   ...         ...                 ...\n",
       "589          Wrist watch  2022-02-16                   1\n",
       "590          Wrist watch  2022-02-17                   3\n",
       "591          Wrist watch  2022-02-17                   1\n",
       "592          wrist watch  2022-05-28                   1\n",
       "593          Wrist watch  2023-03-28                   1\n",
       "\n",
       "[594 rows x 3 columns]"
      ]
     },
     "execution_count": 74,
     "metadata": {},
     "output_type": "execute_result"
    }
   ],
   "source": [
    "df_daily "
   ]
  },
  {
   "cell_type": "code",
   "execution_count": null,
   "id": "a93ad60b-a0a7-4ec2-8564-e05535a2d8c6",
   "metadata": {},
   "outputs": [],
   "source": []
  }
 ],
 "metadata": {
  "kernelspec": {
   "display_name": "Python 3 (ipykernel)",
   "language": "python",
   "name": "python3"
  },
  "language_info": {
   "codemirror_mode": {
    "name": "ipython",
    "version": 3
   },
   "file_extension": ".py",
   "mimetype": "text/x-python",
   "name": "python",
   "nbconvert_exporter": "python",
   "pygments_lexer": "ipython3",
   "version": "3.10.12"
  }
 },
 "nbformat": 4,
 "nbformat_minor": 5
}
